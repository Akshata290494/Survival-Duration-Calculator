{
 "cells": [
  {
   "cell_type": "code",
   "execution_count": null,
   "id": "fc1dbab9-7f7e-488c-863d-60224bb32a72",
   "metadata": {},
   "outputs": [],
   "source": [
    "def calculate_duration(age, unit):\n",
    "    if unit.lower() in ['months', 'm']:\n",
    "        return age * 12\n",
    "    elif unit.lower() in ['weeks', 'w']:\n",
    "        return age * 52\n",
    "    elif unit.lower() in ['days', 'd']:\n",
    "        return age * 365\n",
    "    elif unit.lower() in ['hours', 'h']:\n",
    "        return age * 365 * 24\n",
    "    elif unit.lower() in ['minutes', 'min']:\n",
    "        return age * 365 * 24 * 60\n",
    "    elif unit.lower() in ['seconds', 'sec']:\n",
    "        return age * 365 * 24 * 60 * 60\n",
    "    else:\n",
    "        return \"Enter Valid Time Unit\"\n",
    "\n",
    "age = float(input(\"What's your age? \"))\n",
    "time_unit = input(\"Please choose a time unit (months, weeks, days, hours, minutes, seconds): \")\n",
    "duration = calculate_duration(age, time_unit)\n",
    "if type(duration) == int:\n",
    "    print(f\"You've lived for {duration} {time_unit}.\")\n",
    "else:\n",
    "    print(duration)"
   ]
  },
  {
   "cell_type": "code",
   "execution_count": null,
   "id": "04374e7b-22c8-4712-beb8-5b78b67b7040",
   "metadata": {},
   "outputs": [],
   "source": []
  }
 ],
 "metadata": {
  "kernelspec": {
   "display_name": "Python 3 (ipykernel)",
   "language": "python",
   "name": "python3"
  },
  "language_info": {
   "codemirror_mode": {
    "name": "ipython",
    "version": 3
   },
   "file_extension": ".py",
   "mimetype": "text/x-python",
   "name": "python",
   "nbconvert_exporter": "python",
   "pygments_lexer": "ipython3",
   "version": "3.11.7"
  }
 },
 "nbformat": 4,
 "nbformat_minor": 5
}
